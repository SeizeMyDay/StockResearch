{
 "cells": [
  {
   "cell_type": "code",
   "execution_count": 308,
   "id": "82ef1d9b",
   "metadata": {},
   "outputs": [],
   "source": [
    "# 시점 컬럼은 datetime으로 변환시켜야 하기 때문에 str(object)여야 한다.\n",
    "# 시점 이외 컬럼은 회귀분석을 돌려야 하므로 float여야 한다.\n",
    "# 여기서 전처리한 것은 testdata_temp에 저장된다.\n",
    "# 이후 transdata 폴더에 들어있던 기존 파일을 백업, 삭제한 뒤 그 자리에 testdata_temp에 있던 걸 가져왔다.\n",
    "\n",
    "import os\n",
    "import pandas as pd\n",
    "import numpy as np"
   ]
  },
  {
   "cell_type": "code",
   "execution_count": 309,
   "id": "41d49e14",
   "metadata": {},
   "outputs": [],
   "source": [
    "call = pd.read_csv('Call.csv')\n",
    "interestdiff = pd.read_csv('InterestDiff.csv', encoding='cp949')\n",
    "vkospi = pd.read_csv('VKOSPI.csv')\n",
    "tradbal = pd.read_excel('TradeBalance.xlsx')\n",
    "cpi = pd.read_excel('CPI.xlsx')\n",
    "ppi = pd.read_csv('PPI.csv', encoding='cp949')\n",
    "unemploy = pd.read_excel('Unemployment.xlsx')\n",
    "manuprod = pd.read_excel('ManufactProduct.xlsx')"
   ]
  },
  {
   "cell_type": "code",
   "execution_count": 310,
   "id": "58d2c5da",
   "metadata": {},
   "outputs": [],
   "source": [
    "korp = pd.read_csv('KORP.csv')\n",
    "usrp = pd.read_csv('USRP.csv', encoding='cp949')"
   ]
  },
  {
   "cell_type": "code",
   "execution_count": 311,
   "id": "bb90c672",
   "metadata": {},
   "outputs": [],
   "source": [
    "#call = pd.read_csv('Call.csv')\n",
    "#interestdiff = pd.read_csv('InterestDiff.csv', encoding='cp949')\n",
    "#vkospi = pd.read_csv('VKOSPI.csv')\n",
    "#tradbal = pd.read_csv('TradeBalance.csv', encoding='cp949')\n",
    "#cpi = pd.read_csv('CPI.csv', encoding='cp949')\n",
    "#ppi = pd.read_csv('PPI.csv', encoding='cp949')\n",
    "#unemploy = pd.read_csv('Unemployment.csv', encoding='cp949')\n",
    "#manuprod = pd.read_csv('ManufactProduct.csv', encoding='cp949')\n",
    "#korp = pd.read_csv('KORP.csv')\n",
    "#usrp = pd.read_csv('USRP.csv', encoding='cp949')"
   ]
  },
  {
   "cell_type": "markdown",
   "id": "34d82089",
   "metadata": {},
   "source": [
    "### InterestDiff"
   ]
  },
  {
   "cell_type": "code",
   "execution_count": 312,
   "id": "5ce79a9a",
   "metadata": {},
   "outputs": [],
   "source": [
    "# InterestDiff 컬럼 온점 -> 공백값으로 바꾸기\n",
    "interestdiff['InterestDiff'] = interestdiff['InterestDiff'].where(interestdiff['InterestDiff']!='.', None)\n",
    "\n",
    "# InterestDiff 컬럼 자료형 float로 바꾸기\n",
    "interestdiff['InterestDiff'] = interestdiff['InterestDiff'].astype('float')"
   ]
  },
  {
   "cell_type": "code",
   "execution_count": 313,
   "id": "bffb4310",
   "metadata": {},
   "outputs": [
    {
     "name": "stdout",
     "output_type": "stream",
     "text": [
      "<class 'pandas.core.frame.DataFrame'>\n",
      "RangeIndex: 6613 entries, 0 to 6612\n",
      "Data columns (total 2 columns):\n",
      " #   Column        Non-Null Count  Dtype  \n",
      "---  ------        --------------  -----  \n",
      " 0   시점            6613 non-null   object \n",
      " 1   InterestDiff  6343 non-null   float64\n",
      "dtypes: float64(1), object(1)\n",
      "memory usage: 103.5+ KB\n"
     ]
    }
   ],
   "source": [
    "interestdiff.info()"
   ]
  },
  {
   "cell_type": "code",
   "execution_count": 314,
   "id": "c81abb28",
   "metadata": {},
   "outputs": [
    {
     "data": {
      "text/plain": [
       "시점                0\n",
       "InterestDiff    270\n",
       "dtype: int64"
      ]
     },
     "execution_count": 314,
     "metadata": {},
     "output_type": "execute_result"
    }
   ],
   "source": [
    "interestdiff.isna().sum()"
   ]
  },
  {
   "cell_type": "markdown",
   "id": "ac887bac",
   "metadata": {},
   "source": [
    "### VKOSPI"
   ]
  },
  {
   "cell_type": "code",
   "execution_count": 315,
   "id": "71887b73",
   "metadata": {},
   "outputs": [
    {
     "data": {
      "text/html": [
       "<div>\n",
       "<style scoped>\n",
       "    .dataframe tbody tr th:only-of-type {\n",
       "        vertical-align: middle;\n",
       "    }\n",
       "\n",
       "    .dataframe tbody tr th {\n",
       "        vertical-align: top;\n",
       "    }\n",
       "\n",
       "    .dataframe thead th {\n",
       "        text-align: right;\n",
       "    }\n",
       "</style>\n",
       "<table border=\"1\" class=\"dataframe\">\n",
       "  <thead>\n",
       "    <tr style=\"text-align: right;\">\n",
       "      <th></th>\n",
       "      <th>시점</th>\n",
       "      <th>VKOSPI</th>\n",
       "    </tr>\n",
       "  </thead>\n",
       "  <tbody>\n",
       "    <tr>\n",
       "      <th>0</th>\n",
       "      <td>2022-11-09</td>\n",
       "      <td>0.55</td>\n",
       "    </tr>\n",
       "    <tr>\n",
       "      <th>1</th>\n",
       "      <td>2022-11-08</td>\n",
       "      <td>-3.9</td>\n",
       "    </tr>\n",
       "    <tr>\n",
       "      <th>2</th>\n",
       "      <td>2022-11-07</td>\n",
       "      <td>-0.1</td>\n",
       "    </tr>\n",
       "    <tr>\n",
       "      <th>3</th>\n",
       "      <td>2022-11-04</td>\n",
       "      <td>-1.7</td>\n",
       "    </tr>\n",
       "    <tr>\n",
       "      <th>4</th>\n",
       "      <td>2022-11-03</td>\n",
       "      <td>0.38</td>\n",
       "    </tr>\n",
       "    <tr>\n",
       "      <th>...</th>\n",
       "      <td>...</td>\n",
       "      <td>...</td>\n",
       "    </tr>\n",
       "    <tr>\n",
       "      <th>2271</th>\n",
       "      <td>2013-08-12</td>\n",
       "      <td>2.36</td>\n",
       "    </tr>\n",
       "    <tr>\n",
       "      <th>2272</th>\n",
       "      <td>2013-08-09</td>\n",
       "      <td>-3.8</td>\n",
       "    </tr>\n",
       "    <tr>\n",
       "      <th>2273</th>\n",
       "      <td>2013-08-08</td>\n",
       "      <td>-2.5</td>\n",
       "    </tr>\n",
       "    <tr>\n",
       "      <th>2274</th>\n",
       "      <td>2013-08-07</td>\n",
       "      <td>2.47</td>\n",
       "    </tr>\n",
       "    <tr>\n",
       "      <th>2275</th>\n",
       "      <td>2013-08-06</td>\n",
       "      <td>0.40</td>\n",
       "    </tr>\n",
       "  </tbody>\n",
       "</table>\n",
       "<p>2276 rows × 2 columns</p>\n",
       "</div>"
      ],
      "text/plain": [
       "              시점 VKOSPI\n",
       "0     2022-11-09   0.55\n",
       "1     2022-11-08   -3.9\n",
       "2     2022-11-07   -0.1\n",
       "3     2022-11-04   -1.7\n",
       "4     2022-11-03   0.38\n",
       "...          ...    ...\n",
       "2271  2013-08-12   2.36\n",
       "2272  2013-08-09   -3.8\n",
       "2273  2013-08-08   -2.5\n",
       "2274  2013-08-07   2.47\n",
       "2275  2013-08-06   0.40\n",
       "\n",
       "[2276 rows x 2 columns]"
      ]
     },
     "execution_count": 315,
     "metadata": {},
     "output_type": "execute_result"
    }
   ],
   "source": [
    "#VKOSPI 컬럼 '%' 문자 제거\n",
    "vkospi['VKOSPI'] = vkospi['VKOSPI'].str.slice(start=0, stop=4)\n",
    "vkospi"
   ]
  },
  {
   "cell_type": "code",
   "execution_count": 316,
   "id": "2e204a70",
   "metadata": {},
   "outputs": [],
   "source": [
    "# VKOSPI 컬럼 자료형 float로 바꾸기\n",
    "vkospi['VKOSPI'] = vkospi['VKOSPI'].astype('float')"
   ]
  },
  {
   "cell_type": "code",
   "execution_count": 317,
   "id": "cfac962f",
   "metadata": {},
   "outputs": [
    {
     "name": "stdout",
     "output_type": "stream",
     "text": [
      "<class 'pandas.core.frame.DataFrame'>\n",
      "RangeIndex: 2276 entries, 0 to 2275\n",
      "Data columns (total 2 columns):\n",
      " #   Column  Non-Null Count  Dtype  \n",
      "---  ------  --------------  -----  \n",
      " 0   시점      2276 non-null   object \n",
      " 1   VKOSPI  2276 non-null   float64\n",
      "dtypes: float64(1), object(1)\n",
      "memory usage: 35.7+ KB\n"
     ]
    }
   ],
   "source": [
    "vkospi.info()"
   ]
  },
  {
   "cell_type": "code",
   "execution_count": 318,
   "id": "ff42e048",
   "metadata": {},
   "outputs": [
    {
     "data": {
      "text/plain": [
       "시점        0\n",
       "VKOSPI    0\n",
       "dtype: int64"
      ]
     },
     "execution_count": 318,
     "metadata": {},
     "output_type": "execute_result"
    }
   ],
   "source": [
    "vkospi.isna().sum()"
   ]
  },
  {
   "cell_type": "markdown",
   "id": "adad9ff5",
   "metadata": {},
   "source": [
    "### TradeBalance"
   ]
  },
  {
   "cell_type": "code",
   "execution_count": 319,
   "id": "90ec6696",
   "metadata": {
    "scrolled": true
   },
   "outputs": [
    {
     "name": "stdout",
     "output_type": "stream",
     "text": [
      "<class 'pandas.core.frame.DataFrame'>\n",
      "RangeIndex: 273 entries, 0 to 272\n",
      "Data columns (total 2 columns):\n",
      " #   Column        Non-Null Count  Dtype \n",
      "---  ------        --------------  ----- \n",
      " 0   시점            273 non-null    object\n",
      " 1   TradeBalance  273 non-null    int64 \n",
      "dtypes: int64(1), object(1)\n",
      "memory usage: 4.4+ KB\n"
     ]
    }
   ],
   "source": [
    "tradbal.info()"
   ]
  },
  {
   "cell_type": "code",
   "execution_count": 320,
   "id": "135a9920",
   "metadata": {},
   "outputs": [],
   "source": [
    "# TradeBalance 컬럼 자료형 float로 바꾸기\n",
    "tradbal['TradeBalance'] = tradbal['TradeBalance'].astype('float')"
   ]
  },
  {
   "cell_type": "code",
   "execution_count": 321,
   "id": "fd5416df",
   "metadata": {},
   "outputs": [
    {
     "data": {
      "text/html": [
       "<div>\n",
       "<style scoped>\n",
       "    .dataframe tbody tr th:only-of-type {\n",
       "        vertical-align: middle;\n",
       "    }\n",
       "\n",
       "    .dataframe tbody tr th {\n",
       "        vertical-align: top;\n",
       "    }\n",
       "\n",
       "    .dataframe thead th {\n",
       "        text-align: right;\n",
       "    }\n",
       "</style>\n",
       "<table border=\"1\" class=\"dataframe\">\n",
       "  <thead>\n",
       "    <tr style=\"text-align: right;\">\n",
       "      <th></th>\n",
       "      <th>시점</th>\n",
       "      <th>TradeBalance</th>\n",
       "    </tr>\n",
       "  </thead>\n",
       "  <tbody>\n",
       "    <tr>\n",
       "      <th>0</th>\n",
       "      <td>2000-01</td>\n",
       "      <td>-432198.0</td>\n",
       "    </tr>\n",
       "    <tr>\n",
       "      <th>1</th>\n",
       "      <td>2000-02</td>\n",
       "      <td>652390.0</td>\n",
       "    </tr>\n",
       "    <tr>\n",
       "      <th>2</th>\n",
       "      <td>2000-03</td>\n",
       "      <td>217692.0</td>\n",
       "    </tr>\n",
       "    <tr>\n",
       "      <th>3</th>\n",
       "      <td>2000-04</td>\n",
       "      <td>177508.0</td>\n",
       "    </tr>\n",
       "    <tr>\n",
       "      <th>4</th>\n",
       "      <td>2000-05</td>\n",
       "      <td>1353399.0</td>\n",
       "    </tr>\n",
       "    <tr>\n",
       "      <th>...</th>\n",
       "      <td>...</td>\n",
       "      <td>...</td>\n",
       "    </tr>\n",
       "    <tr>\n",
       "      <th>268</th>\n",
       "      <td>2022-05</td>\n",
       "      <td>-1605818.0</td>\n",
       "    </tr>\n",
       "    <tr>\n",
       "      <th>269</th>\n",
       "      <td>2022-06</td>\n",
       "      <td>-2497006.0</td>\n",
       "    </tr>\n",
       "    <tr>\n",
       "      <th>270</th>\n",
       "      <td>2022-07</td>\n",
       "      <td>-5088670.0</td>\n",
       "    </tr>\n",
       "    <tr>\n",
       "      <th>271</th>\n",
       "      <td>2022-08</td>\n",
       "      <td>-9393976.0</td>\n",
       "    </tr>\n",
       "    <tr>\n",
       "      <th>272</th>\n",
       "      <td>2022-09</td>\n",
       "      <td>-3778132.0</td>\n",
       "    </tr>\n",
       "  </tbody>\n",
       "</table>\n",
       "<p>273 rows × 2 columns</p>\n",
       "</div>"
      ],
      "text/plain": [
       "          시점  TradeBalance\n",
       "0    2000-01     -432198.0\n",
       "1    2000-02      652390.0\n",
       "2    2000-03      217692.0\n",
       "3    2000-04      177508.0\n",
       "4    2000-05     1353399.0\n",
       "..       ...           ...\n",
       "268  2022-05    -1605818.0\n",
       "269  2022-06    -2497006.0\n",
       "270  2022-07    -5088670.0\n",
       "271  2022-08    -9393976.0\n",
       "272  2022-09    -3778132.0\n",
       "\n",
       "[273 rows x 2 columns]"
      ]
     },
     "execution_count": 321,
     "metadata": {},
     "output_type": "execute_result"
    }
   ],
   "source": [
    "tradbal"
   ]
  },
  {
   "cell_type": "code",
   "execution_count": 322,
   "id": "4be7f105",
   "metadata": {},
   "outputs": [
    {
     "name": "stdout",
     "output_type": "stream",
     "text": [
      "<class 'pandas.core.frame.DataFrame'>\n",
      "RangeIndex: 273 entries, 0 to 272\n",
      "Data columns (total 2 columns):\n",
      " #   Column        Non-Null Count  Dtype  \n",
      "---  ------        --------------  -----  \n",
      " 0   시점            273 non-null    object \n",
      " 1   TradeBalance  273 non-null    float64\n",
      "dtypes: float64(1), object(1)\n",
      "memory usage: 4.4+ KB\n"
     ]
    }
   ],
   "source": [
    "tradbal.info()"
   ]
  },
  {
   "cell_type": "code",
   "execution_count": 323,
   "id": "be50be6b",
   "metadata": {},
   "outputs": [
    {
     "data": {
      "text/plain": [
       "시점              0\n",
       "TradeBalance    0\n",
       "dtype: int64"
      ]
     },
     "execution_count": 323,
     "metadata": {},
     "output_type": "execute_result"
    }
   ],
   "source": [
    "tradbal.isna().sum()"
   ]
  },
  {
   "cell_type": "code",
   "execution_count": 324,
   "id": "dd3ff928",
   "metadata": {},
   "outputs": [
    {
     "data": {
      "text/html": [
       "<div>\n",
       "<style scoped>\n",
       "    .dataframe tbody tr th:only-of-type {\n",
       "        vertical-align: middle;\n",
       "    }\n",
       "\n",
       "    .dataframe tbody tr th {\n",
       "        vertical-align: top;\n",
       "    }\n",
       "\n",
       "    .dataframe thead th {\n",
       "        text-align: right;\n",
       "    }\n",
       "</style>\n",
       "<table border=\"1\" class=\"dataframe\">\n",
       "  <thead>\n",
       "    <tr style=\"text-align: right;\">\n",
       "      <th></th>\n",
       "      <th>시점</th>\n",
       "      <th>CPI</th>\n",
       "    </tr>\n",
       "  </thead>\n",
       "  <tbody>\n",
       "    <tr>\n",
       "      <th>0</th>\n",
       "      <td>1997-07</td>\n",
       "      <td>56.825</td>\n",
       "    </tr>\n",
       "    <tr>\n",
       "      <th>1</th>\n",
       "      <td>1997-08</td>\n",
       "      <td>57.240</td>\n",
       "    </tr>\n",
       "    <tr>\n",
       "      <th>2</th>\n",
       "      <td>1997-09</td>\n",
       "      <td>57.502</td>\n",
       "    </tr>\n",
       "    <tr>\n",
       "      <th>3</th>\n",
       "      <td>1997-10</td>\n",
       "      <td>57.502</td>\n",
       "    </tr>\n",
       "    <tr>\n",
       "      <th>4</th>\n",
       "      <td>1997-11</td>\n",
       "      <td>57.553</td>\n",
       "    </tr>\n",
       "    <tr>\n",
       "      <th>...</th>\n",
       "      <td>...</td>\n",
       "      <td>...</td>\n",
       "    </tr>\n",
       "    <tr>\n",
       "      <th>299</th>\n",
       "      <td>2022-06</td>\n",
       "      <td>108.220</td>\n",
       "    </tr>\n",
       "    <tr>\n",
       "      <th>300</th>\n",
       "      <td>2022-07</td>\n",
       "      <td>108.740</td>\n",
       "    </tr>\n",
       "    <tr>\n",
       "      <th>301</th>\n",
       "      <td>2022-08</td>\n",
       "      <td>108.620</td>\n",
       "    </tr>\n",
       "    <tr>\n",
       "      <th>302</th>\n",
       "      <td>2022-09</td>\n",
       "      <td>108.930</td>\n",
       "    </tr>\n",
       "    <tr>\n",
       "      <th>303</th>\n",
       "      <td>2022-10</td>\n",
       "      <td>109.210</td>\n",
       "    </tr>\n",
       "  </tbody>\n",
       "</table>\n",
       "<p>304 rows × 2 columns</p>\n",
       "</div>"
      ],
      "text/plain": [
       "          시점      CPI\n",
       "0    1997-07   56.825\n",
       "1    1997-08   57.240\n",
       "2    1997-09   57.502\n",
       "3    1997-10   57.502\n",
       "4    1997-11   57.553\n",
       "..       ...      ...\n",
       "299  2022-06  108.220\n",
       "300  2022-07  108.740\n",
       "301  2022-08  108.620\n",
       "302  2022-09  108.930\n",
       "303  2022-10  109.210\n",
       "\n",
       "[304 rows x 2 columns]"
      ]
     },
     "execution_count": 324,
     "metadata": {},
     "output_type": "execute_result"
    }
   ],
   "source": [
    "cpi"
   ]
  },
  {
   "cell_type": "code",
   "execution_count": 325,
   "id": "85f9ad2e",
   "metadata": {},
   "outputs": [
    {
     "name": "stdout",
     "output_type": "stream",
     "text": [
      "<class 'pandas.core.frame.DataFrame'>\n",
      "RangeIndex: 304 entries, 0 to 303\n",
      "Data columns (total 2 columns):\n",
      " #   Column  Non-Null Count  Dtype  \n",
      "---  ------  --------------  -----  \n",
      " 0   시점      304 non-null    object \n",
      " 1   CPI     304 non-null    float64\n",
      "dtypes: float64(1), object(1)\n",
      "memory usage: 4.9+ KB\n"
     ]
    }
   ],
   "source": [
    "cpi.info()"
   ]
  },
  {
   "cell_type": "code",
   "execution_count": 326,
   "id": "ab35bce2",
   "metadata": {},
   "outputs": [
    {
     "data": {
      "text/plain": [
       "시점     0\n",
       "CPI    0\n",
       "dtype: int64"
      ]
     },
     "execution_count": 326,
     "metadata": {},
     "output_type": "execute_result"
    }
   ],
   "source": [
    "cpi.isna().sum()"
   ]
  },
  {
   "cell_type": "code",
   "execution_count": 327,
   "id": "7b09a46c",
   "metadata": {},
   "outputs": [
    {
     "data": {
      "text/plain": [
       "시점     0\n",
       "PPI    0\n",
       "dtype: int64"
      ]
     },
     "execution_count": 327,
     "metadata": {},
     "output_type": "execute_result"
    }
   ],
   "source": [
    "ppi.isna().sum()"
   ]
  },
  {
   "cell_type": "code",
   "execution_count": 328,
   "id": "56765d6e",
   "metadata": {},
   "outputs": [
    {
     "data": {
      "text/html": [
       "<div>\n",
       "<style scoped>\n",
       "    .dataframe tbody tr th:only-of-type {\n",
       "        vertical-align: middle;\n",
       "    }\n",
       "\n",
       "    .dataframe tbody tr th {\n",
       "        vertical-align: top;\n",
       "    }\n",
       "\n",
       "    .dataframe thead th {\n",
       "        text-align: right;\n",
       "    }\n",
       "</style>\n",
       "<table border=\"1\" class=\"dataframe\">\n",
       "  <thead>\n",
       "    <tr style=\"text-align: right;\">\n",
       "      <th></th>\n",
       "      <th>시점</th>\n",
       "      <th>Unemployment</th>\n",
       "    </tr>\n",
       "  </thead>\n",
       "  <tbody>\n",
       "    <tr>\n",
       "      <th>0</th>\n",
       "      <td>1999-06</td>\n",
       "      <td>6.7</td>\n",
       "    </tr>\n",
       "    <tr>\n",
       "      <th>1</th>\n",
       "      <td>1999-07</td>\n",
       "      <td>6.7</td>\n",
       "    </tr>\n",
       "    <tr>\n",
       "      <th>2</th>\n",
       "      <td>1999-08</td>\n",
       "      <td>6.2</td>\n",
       "    </tr>\n",
       "    <tr>\n",
       "      <th>3</th>\n",
       "      <td>1999-09</td>\n",
       "      <td>5.2</td>\n",
       "    </tr>\n",
       "    <tr>\n",
       "      <th>4</th>\n",
       "      <td>1999-10</td>\n",
       "      <td>5.0</td>\n",
       "    </tr>\n",
       "    <tr>\n",
       "      <th>...</th>\n",
       "      <td>...</td>\n",
       "      <td>...</td>\n",
       "    </tr>\n",
       "    <tr>\n",
       "      <th>276</th>\n",
       "      <td>2022-06</td>\n",
       "      <td>3.0</td>\n",
       "    </tr>\n",
       "    <tr>\n",
       "      <th>277</th>\n",
       "      <td>2022-07</td>\n",
       "      <td>2.9</td>\n",
       "    </tr>\n",
       "    <tr>\n",
       "      <th>278</th>\n",
       "      <td>2022-08</td>\n",
       "      <td>2.1</td>\n",
       "    </tr>\n",
       "    <tr>\n",
       "      <th>279</th>\n",
       "      <td>2022-09</td>\n",
       "      <td>2.4</td>\n",
       "    </tr>\n",
       "    <tr>\n",
       "      <th>280</th>\n",
       "      <td>2022-10</td>\n",
       "      <td>2.4</td>\n",
       "    </tr>\n",
       "  </tbody>\n",
       "</table>\n",
       "<p>281 rows × 2 columns</p>\n",
       "</div>"
      ],
      "text/plain": [
       "          시점  Unemployment\n",
       "0    1999-06           6.7\n",
       "1    1999-07           6.7\n",
       "2    1999-08           6.2\n",
       "3    1999-09           5.2\n",
       "4    1999-10           5.0\n",
       "..       ...           ...\n",
       "276  2022-06           3.0\n",
       "277  2022-07           2.9\n",
       "278  2022-08           2.1\n",
       "279  2022-09           2.4\n",
       "280  2022-10           2.4\n",
       "\n",
       "[281 rows x 2 columns]"
      ]
     },
     "execution_count": 328,
     "metadata": {},
     "output_type": "execute_result"
    }
   ],
   "source": [
    "unemploy"
   ]
  },
  {
   "cell_type": "code",
   "execution_count": 329,
   "id": "64abd50c",
   "metadata": {},
   "outputs": [
    {
     "name": "stdout",
     "output_type": "stream",
     "text": [
      "<class 'pandas.core.frame.DataFrame'>\n",
      "RangeIndex: 281 entries, 0 to 280\n",
      "Data columns (total 2 columns):\n",
      " #   Column        Non-Null Count  Dtype  \n",
      "---  ------        --------------  -----  \n",
      " 0   시점            281 non-null    object \n",
      " 1   Unemployment  281 non-null    float64\n",
      "dtypes: float64(1), object(1)\n",
      "memory usage: 4.5+ KB\n"
     ]
    }
   ],
   "source": [
    "unemploy.info()"
   ]
  },
  {
   "cell_type": "code",
   "execution_count": 330,
   "id": "ce41af48",
   "metadata": {},
   "outputs": [
    {
     "data": {
      "text/plain": [
       "시점              0\n",
       "Unemployment    0\n",
       "dtype: int64"
      ]
     },
     "execution_count": 330,
     "metadata": {},
     "output_type": "execute_result"
    }
   ],
   "source": [
    "unemploy.isna().sum()"
   ]
  },
  {
   "cell_type": "code",
   "execution_count": 331,
   "id": "2ec27b4d",
   "metadata": {},
   "outputs": [],
   "source": [
    "# 시점 컬럼 자료형 str로 바꾸기\n",
    "manuprod['시점'] = manuprod['시점'].astype('str')"
   ]
  },
  {
   "cell_type": "code",
   "execution_count": 332,
   "id": "e8b2d0a6",
   "metadata": {},
   "outputs": [
    {
     "data": {
      "text/html": [
       "<div>\n",
       "<style scoped>\n",
       "    .dataframe tbody tr th:only-of-type {\n",
       "        vertical-align: middle;\n",
       "    }\n",
       "\n",
       "    .dataframe tbody tr th {\n",
       "        vertical-align: top;\n",
       "    }\n",
       "\n",
       "    .dataframe thead th {\n",
       "        text-align: right;\n",
       "    }\n",
       "</style>\n",
       "<table border=\"1\" class=\"dataframe\">\n",
       "  <thead>\n",
       "    <tr style=\"text-align: right;\">\n",
       "      <th></th>\n",
       "      <th>시점</th>\n",
       "      <th>ManufactProduct</th>\n",
       "    </tr>\n",
       "  </thead>\n",
       "  <tbody>\n",
       "    <tr>\n",
       "      <th>0</th>\n",
       "      <td>1997-07</td>\n",
       "      <td>36.206</td>\n",
       "    </tr>\n",
       "    <tr>\n",
       "      <th>1</th>\n",
       "      <td>1997-08</td>\n",
       "      <td>35.382</td>\n",
       "    </tr>\n",
       "    <tr>\n",
       "      <th>2</th>\n",
       "      <td>1997-09</td>\n",
       "      <td>36.176</td>\n",
       "    </tr>\n",
       "    <tr>\n",
       "      <th>3</th>\n",
       "      <td>1997-10</td>\n",
       "      <td>38.745</td>\n",
       "    </tr>\n",
       "    <tr>\n",
       "      <th>4</th>\n",
       "      <td>1997-11</td>\n",
       "      <td>37.254</td>\n",
       "    </tr>\n",
       "    <tr>\n",
       "      <th>...</th>\n",
       "      <td>...</td>\n",
       "      <td>...</td>\n",
       "    </tr>\n",
       "    <tr>\n",
       "      <th>298</th>\n",
       "      <td>2022-05</td>\n",
       "      <td>119.900</td>\n",
       "    </tr>\n",
       "    <tr>\n",
       "      <th>299</th>\n",
       "      <td>2022-06</td>\n",
       "      <td>118.800</td>\n",
       "    </tr>\n",
       "    <tr>\n",
       "      <th>300</th>\n",
       "      <td>2022-07</td>\n",
       "      <td>118.400</td>\n",
       "    </tr>\n",
       "    <tr>\n",
       "      <th>301</th>\n",
       "      <td>2022-08</td>\n",
       "      <td>112.200</td>\n",
       "    </tr>\n",
       "    <tr>\n",
       "      <th>302</th>\n",
       "      <td>2022-09</td>\n",
       "      <td>112.000</td>\n",
       "    </tr>\n",
       "  </tbody>\n",
       "</table>\n",
       "<p>303 rows × 2 columns</p>\n",
       "</div>"
      ],
      "text/plain": [
       "          시점  ManufactProduct\n",
       "0    1997-07           36.206\n",
       "1    1997-08           35.382\n",
       "2    1997-09           36.176\n",
       "3    1997-10           38.745\n",
       "4    1997-11           37.254\n",
       "..       ...              ...\n",
       "298  2022-05          119.900\n",
       "299  2022-06          118.800\n",
       "300  2022-07          118.400\n",
       "301  2022-08          112.200\n",
       "302  2022-09          112.000\n",
       "\n",
       "[303 rows x 2 columns]"
      ]
     },
     "execution_count": 332,
     "metadata": {},
     "output_type": "execute_result"
    }
   ],
   "source": [
    "manuprod"
   ]
  },
  {
   "cell_type": "code",
   "execution_count": 333,
   "id": "6797db44",
   "metadata": {},
   "outputs": [
    {
     "name": "stdout",
     "output_type": "stream",
     "text": [
      "<class 'pandas.core.frame.DataFrame'>\n",
      "RangeIndex: 303 entries, 0 to 302\n",
      "Data columns (total 2 columns):\n",
      " #   Column           Non-Null Count  Dtype  \n",
      "---  ------           --------------  -----  \n",
      " 0   시점               303 non-null    object \n",
      " 1   ManufactProduct  303 non-null    float64\n",
      "dtypes: float64(1), object(1)\n",
      "memory usage: 4.9+ KB\n"
     ]
    }
   ],
   "source": [
    "manuprod.info()"
   ]
  },
  {
   "cell_type": "code",
   "execution_count": 334,
   "id": "e1cb7ecb",
   "metadata": {
    "scrolled": true
   },
   "outputs": [
    {
     "data": {
      "text/plain": [
       "시점                 0\n",
       "ManufactProduct    0\n",
       "dtype: int64"
      ]
     },
     "execution_count": 334,
     "metadata": {},
     "output_type": "execute_result"
    }
   ],
   "source": [
    "manuprod.isna().sum()"
   ]
  },
  {
   "cell_type": "markdown",
   "id": "f6d0b83a",
   "metadata": {},
   "source": [
    "### USRP"
   ]
  },
  {
   "cell_type": "code",
   "execution_count": 335,
   "id": "c7ea5952",
   "metadata": {},
   "outputs": [],
   "source": [
    "# USRP 컬럼 자료형 float로 바꾸기\n",
    "usrp['USRP'] = usrp['USRP'].astype('float')"
   ]
  },
  {
   "cell_type": "code",
   "execution_count": 336,
   "id": "6f9531cf",
   "metadata": {},
   "outputs": [
    {
     "data": {
      "text/html": [
       "<div>\n",
       "<style scoped>\n",
       "    .dataframe tbody tr th:only-of-type {\n",
       "        vertical-align: middle;\n",
       "    }\n",
       "\n",
       "    .dataframe tbody tr th {\n",
       "        vertical-align: top;\n",
       "    }\n",
       "\n",
       "    .dataframe thead th {\n",
       "        text-align: right;\n",
       "    }\n",
       "</style>\n",
       "<table border=\"1\" class=\"dataframe\">\n",
       "  <thead>\n",
       "    <tr style=\"text-align: right;\">\n",
       "      <th></th>\n",
       "      <th>시점</th>\n",
       "      <th>USRP</th>\n",
       "    </tr>\n",
       "  </thead>\n",
       "  <tbody>\n",
       "    <tr>\n",
       "      <th>0</th>\n",
       "      <td>2002-12-18</td>\n",
       "      <td>30000.0</td>\n",
       "    </tr>\n",
       "    <tr>\n",
       "      <th>1</th>\n",
       "      <td>2002-12-25</td>\n",
       "      <td>37250.0</td>\n",
       "    </tr>\n",
       "    <tr>\n",
       "      <th>2</th>\n",
       "      <td>2003-01-01</td>\n",
       "      <td>39500.0</td>\n",
       "    </tr>\n",
       "    <tr>\n",
       "      <th>3</th>\n",
       "      <td>2003-01-08</td>\n",
       "      <td>33750.0</td>\n",
       "    </tr>\n",
       "    <tr>\n",
       "      <th>4</th>\n",
       "      <td>2003-01-15</td>\n",
       "      <td>30000.0</td>\n",
       "    </tr>\n",
       "    <tr>\n",
       "      <th>...</th>\n",
       "      <td>...</td>\n",
       "      <td>...</td>\n",
       "    </tr>\n",
       "    <tr>\n",
       "      <th>1033</th>\n",
       "      <td>2022-10-05</td>\n",
       "      <td>0.0</td>\n",
       "    </tr>\n",
       "    <tr>\n",
       "      <th>1034</th>\n",
       "      <td>2022-10-12</td>\n",
       "      <td>0.0</td>\n",
       "    </tr>\n",
       "    <tr>\n",
       "      <th>1035</th>\n",
       "      <td>2022-10-19</td>\n",
       "      <td>10.0</td>\n",
       "    </tr>\n",
       "    <tr>\n",
       "      <th>1036</th>\n",
       "      <td>2022-10-26</td>\n",
       "      <td>1.0</td>\n",
       "    </tr>\n",
       "    <tr>\n",
       "      <th>1037</th>\n",
       "      <td>2022-11-02</td>\n",
       "      <td>1.0</td>\n",
       "    </tr>\n",
       "  </tbody>\n",
       "</table>\n",
       "<p>1038 rows × 2 columns</p>\n",
       "</div>"
      ],
      "text/plain": [
       "              시점     USRP\n",
       "0     2002-12-18  30000.0\n",
       "1     2002-12-25  37250.0\n",
       "2     2003-01-01  39500.0\n",
       "3     2003-01-08  33750.0\n",
       "4     2003-01-15  30000.0\n",
       "...          ...      ...\n",
       "1033  2022-10-05      0.0\n",
       "1034  2022-10-12      0.0\n",
       "1035  2022-10-19     10.0\n",
       "1036  2022-10-26      1.0\n",
       "1037  2022-11-02      1.0\n",
       "\n",
       "[1038 rows x 2 columns]"
      ]
     },
     "execution_count": 336,
     "metadata": {},
     "output_type": "execute_result"
    }
   ],
   "source": [
    "usrp"
   ]
  },
  {
   "cell_type": "code",
   "execution_count": 337,
   "id": "b7902999",
   "metadata": {},
   "outputs": [
    {
     "name": "stdout",
     "output_type": "stream",
     "text": [
      "<class 'pandas.core.frame.DataFrame'>\n",
      "RangeIndex: 1038 entries, 0 to 1037\n",
      "Data columns (total 2 columns):\n",
      " #   Column  Non-Null Count  Dtype  \n",
      "---  ------  --------------  -----  \n",
      " 0   시점      1038 non-null   object \n",
      " 1   USRP    1038 non-null   float64\n",
      "dtypes: float64(1), object(1)\n",
      "memory usage: 16.3+ KB\n"
     ]
    }
   ],
   "source": [
    "usrp.info()"
   ]
  },
  {
   "cell_type": "code",
   "execution_count": 338,
   "id": "d737b644",
   "metadata": {},
   "outputs": [
    {
     "data": {
      "text/plain": [
       "시점      0\n",
       "USRP    0\n",
       "dtype: int64"
      ]
     },
     "execution_count": 338,
     "metadata": {},
     "output_type": "execute_result"
    }
   ],
   "source": [
    "usrp.isna().sum()"
   ]
  },
  {
   "cell_type": "markdown",
   "id": "1f25202b",
   "metadata": {},
   "source": [
    "## 저장"
   ]
  },
  {
   "cell_type": "code",
   "execution_count": 339,
   "id": "86dfbbc1",
   "metadata": {},
   "outputs": [],
   "source": [
    "# transdata_temp에 저장\n",
    "path = 'C:/Users/USER/Desktop/transdata/transdata_temp'\n",
    "\n",
    "call.to_csv(os.path.join(path, 'Call.csv'), index=False, encoding='cp949')\n",
    "interestdiff.to_csv(os.path.join(path, 'InterestDiff.csv'), index=False, encoding='cp949')\n",
    "vkospi.to_csv(os.path.join(path, 'VKOSPI.csv'), index=False, encoding='cp949')\n",
    "tradbal.to_excel(os.path.join(path, 'TradeBalance.xlsx'), index=False)\n",
    "cpi.to_excel(os.path.join(path, 'CPI.xlsx'), index=False)\n",
    "ppi.to_csv(os.path.join(path, 'PPI.csv'), index=False, encoding='cp949')\n",
    "unemploy.to_excel(os.path.join(path, 'Unemployment.xlsx'), index=False)\n",
    "manuprod.to_excel(os.path.join(path, 'ManufactProduct.xlsx'), index=False)\n",
    "\n",
    "korp.to_csv(os.path.join(path, 'KORP.csv'), index=False, encoding='cp949')\n",
    "usrp.to_csv(os.path.join(path, 'USRP.csv'), index=False, encoding='cp949')"
   ]
  },
  {
   "cell_type": "code",
   "execution_count": null,
   "id": "6f95f50f",
   "metadata": {},
   "outputs": [],
   "source": []
  }
 ],
 "metadata": {
  "kernelspec": {
   "display_name": "Python 3 (ipykernel)",
   "language": "python",
   "name": "python3"
  },
  "language_info": {
   "codemirror_mode": {
    "name": "ipython",
    "version": 3
   },
   "file_extension": ".py",
   "mimetype": "text/x-python",
   "name": "python",
   "nbconvert_exporter": "python",
   "pygments_lexer": "ipython3",
   "version": "3.9.12"
  }
 },
 "nbformat": 4,
 "nbformat_minor": 5
}
