{
 "cells": [
  {
   "cell_type": "code",
   "execution_count": 47,
   "id": "a7eabc92",
   "metadata": {},
   "outputs": [],
   "source": [
    "# PPI\n",
    "# - 계정코드별' 컬럼값이 '총지수' 가 아닌 행 삭제\n",
    "# - 시점, 생산자물가지수(기본분류) 컬럼만 남김\n",
    "# - 컬럼명 변경: 시점, PPI"
   ]
  },
  {
   "cell_type": "code",
   "execution_count": 48,
   "id": "a847c856",
   "metadata": {},
   "outputs": [],
   "source": [
    "import os\n",
    "import pandas as pd"
   ]
  },
  {
   "cell_type": "code",
   "execution_count": 49,
   "id": "54703b0d",
   "metadata": {},
   "outputs": [
    {
     "data": {
      "text/html": [
       "<div>\n",
       "<style scoped>\n",
       "    .dataframe tbody tr th:only-of-type {\n",
       "        vertical-align: middle;\n",
       "    }\n",
       "\n",
       "    .dataframe tbody tr th {\n",
       "        vertical-align: top;\n",
       "    }\n",
       "\n",
       "    .dataframe thead th {\n",
       "        text-align: right;\n",
       "    }\n",
       "</style>\n",
       "<table border=\"1\" class=\"dataframe\">\n",
       "  <thead>\n",
       "    <tr style=\"text-align: right;\">\n",
       "      <th></th>\n",
       "      <th>계정코드별</th>\n",
       "      <th>시점</th>\n",
       "      <th>생산자물가지수(기본분류)</th>\n",
       "      <th>Unnamed: 3</th>\n",
       "    </tr>\n",
       "  </thead>\n",
       "  <tbody>\n",
       "    <tr>\n",
       "      <th>0</th>\n",
       "      <td>총지수</td>\n",
       "      <td>1997.07 월</td>\n",
       "      <td>69.44</td>\n",
       "      <td>NaN</td>\n",
       "    </tr>\n",
       "    <tr>\n",
       "      <th>1</th>\n",
       "      <td>총지수</td>\n",
       "      <td>1997.08 월</td>\n",
       "      <td>69.58</td>\n",
       "      <td>NaN</td>\n",
       "    </tr>\n",
       "    <tr>\n",
       "      <th>2</th>\n",
       "      <td>총지수</td>\n",
       "      <td>1997.09 월</td>\n",
       "      <td>69.79</td>\n",
       "      <td>NaN</td>\n",
       "    </tr>\n",
       "    <tr>\n",
       "      <th>3</th>\n",
       "      <td>총지수</td>\n",
       "      <td>1997.10 월</td>\n",
       "      <td>69.65</td>\n",
       "      <td>NaN</td>\n",
       "    </tr>\n",
       "    <tr>\n",
       "      <th>4</th>\n",
       "      <td>총지수</td>\n",
       "      <td>1997.11 월</td>\n",
       "      <td>70.02</td>\n",
       "      <td>NaN</td>\n",
       "    </tr>\n",
       "    <tr>\n",
       "      <th>...</th>\n",
       "      <td>...</td>\n",
       "      <td>...</td>\n",
       "      <td>...</td>\n",
       "      <td>...</td>\n",
       "    </tr>\n",
       "    <tr>\n",
       "      <th>152730</th>\n",
       "      <td>기타제조업제품</td>\n",
       "      <td>2022.05 월</td>\n",
       "      <td>119.52</td>\n",
       "      <td>NaN</td>\n",
       "    </tr>\n",
       "    <tr>\n",
       "      <th>152731</th>\n",
       "      <td>기타제조업제품</td>\n",
       "      <td>2022.06 월</td>\n",
       "      <td>120.10</td>\n",
       "      <td>NaN</td>\n",
       "    </tr>\n",
       "    <tr>\n",
       "      <th>152732</th>\n",
       "      <td>기타제조업제품</td>\n",
       "      <td>2022.07 월</td>\n",
       "      <td>121.87</td>\n",
       "      <td>NaN</td>\n",
       "    </tr>\n",
       "    <tr>\n",
       "      <th>152733</th>\n",
       "      <td>기타제조업제품</td>\n",
       "      <td>2022.08 월</td>\n",
       "      <td>122.78</td>\n",
       "      <td>NaN</td>\n",
       "    </tr>\n",
       "    <tr>\n",
       "      <th>152734</th>\n",
       "      <td>기타제조업제품</td>\n",
       "      <td>2022.09 월</td>\n",
       "      <td>122.84</td>\n",
       "      <td>NaN</td>\n",
       "    </tr>\n",
       "  </tbody>\n",
       "</table>\n",
       "<p>152735 rows × 4 columns</p>\n",
       "</div>"
      ],
      "text/plain": [
       "          계정코드별         시점  생산자물가지수(기본분류)  Unnamed: 3\n",
       "0           총지수  1997.07 월          69.44         NaN\n",
       "1           총지수  1997.08 월          69.58         NaN\n",
       "2           총지수  1997.09 월          69.79         NaN\n",
       "3           총지수  1997.10 월          69.65         NaN\n",
       "4           총지수  1997.11 월          70.02         NaN\n",
       "...         ...        ...            ...         ...\n",
       "152730  기타제조업제품  2022.05 월         119.52         NaN\n",
       "152731  기타제조업제품  2022.06 월         120.10         NaN\n",
       "152732  기타제조업제품  2022.07 월         121.87         NaN\n",
       "152733  기타제조업제품  2022.08 월         122.78         NaN\n",
       "152734  기타제조업제품  2022.09 월         122.84         NaN\n",
       "\n",
       "[152735 rows x 4 columns]"
      ]
     },
     "execution_count": 49,
     "metadata": {},
     "output_type": "execute_result"
    }
   ],
   "source": [
    "ppi = pd.read_csv('PPI.csv', encoding='cp949')\n",
    "ppi"
   ]
  },
  {
   "cell_type": "code",
   "execution_count": 50,
   "id": "13dd94b0",
   "metadata": {},
   "outputs": [
    {
     "data": {
      "text/plain": [
       "계정코드별                  총지수\n",
       "시점               2022.09 월\n",
       "생산자물가지수(기본분류)       120.16\n",
       "Unnamed: 3             NaN\n",
       "Name: 302, dtype: object"
      ]
     },
     "execution_count": 50,
     "metadata": {},
     "output_type": "execute_result"
    }
   ],
   "source": [
    "ppi.loc[302]"
   ]
  },
  {
   "cell_type": "code",
   "execution_count": 51,
   "id": "0d326a63",
   "metadata": {},
   "outputs": [
    {
     "data": {
      "text/plain": [
       "계정코드별                   상품\n",
       "시점               1997.07 월\n",
       "생산자물가지수(기본분류)        69.39\n",
       "Unnamed: 3             NaN\n",
       "Name: 303, dtype: object"
      ]
     },
     "execution_count": 51,
     "metadata": {},
     "output_type": "execute_result"
    }
   ],
   "source": [
    "ppi.loc[303]"
   ]
  },
  {
   "cell_type": "code",
   "execution_count": 52,
   "id": "5a49e491",
   "metadata": {
    "scrolled": true
   },
   "outputs": [],
   "source": [
    "# 302번째까지만 가져오면 됨\n",
    "ppi = ppi.loc[range(303)].drop(columns=['계정코드별', 'Unnamed: 3'])"
   ]
  },
  {
   "cell_type": "code",
   "execution_count": 59,
   "id": "59040402",
   "metadata": {},
   "outputs": [
    {
     "data": {
      "text/html": [
       "<div>\n",
       "<style scoped>\n",
       "    .dataframe tbody tr th:only-of-type {\n",
       "        vertical-align: middle;\n",
       "    }\n",
       "\n",
       "    .dataframe tbody tr th {\n",
       "        vertical-align: top;\n",
       "    }\n",
       "\n",
       "    .dataframe thead th {\n",
       "        text-align: right;\n",
       "    }\n",
       "</style>\n",
       "<table border=\"1\" class=\"dataframe\">\n",
       "  <thead>\n",
       "    <tr style=\"text-align: right;\">\n",
       "      <th></th>\n",
       "      <th>시점</th>\n",
       "      <th>PPI</th>\n",
       "    </tr>\n",
       "  </thead>\n",
       "  <tbody>\n",
       "    <tr>\n",
       "      <th>0</th>\n",
       "      <td>1997.07 월</td>\n",
       "      <td>69.44</td>\n",
       "    </tr>\n",
       "    <tr>\n",
       "      <th>1</th>\n",
       "      <td>1997.08 월</td>\n",
       "      <td>69.58</td>\n",
       "    </tr>\n",
       "    <tr>\n",
       "      <th>2</th>\n",
       "      <td>1997.09 월</td>\n",
       "      <td>69.79</td>\n",
       "    </tr>\n",
       "    <tr>\n",
       "      <th>3</th>\n",
       "      <td>1997.10 월</td>\n",
       "      <td>69.65</td>\n",
       "    </tr>\n",
       "    <tr>\n",
       "      <th>4</th>\n",
       "      <td>1997.11 월</td>\n",
       "      <td>70.02</td>\n",
       "    </tr>\n",
       "    <tr>\n",
       "      <th>...</th>\n",
       "      <td>...</td>\n",
       "      <td>...</td>\n",
       "    </tr>\n",
       "    <tr>\n",
       "      <th>298</th>\n",
       "      <td>2022.05 월</td>\n",
       "      <td>119.43</td>\n",
       "    </tr>\n",
       "    <tr>\n",
       "      <th>299</th>\n",
       "      <td>2022.06 월</td>\n",
       "      <td>120.10</td>\n",
       "    </tr>\n",
       "    <tr>\n",
       "      <th>300</th>\n",
       "      <td>2022.07 월</td>\n",
       "      <td>120.44</td>\n",
       "    </tr>\n",
       "    <tr>\n",
       "      <th>301</th>\n",
       "      <td>2022.08 월</td>\n",
       "      <td>119.98</td>\n",
       "    </tr>\n",
       "    <tr>\n",
       "      <th>302</th>\n",
       "      <td>2022.09 월</td>\n",
       "      <td>120.16</td>\n",
       "    </tr>\n",
       "  </tbody>\n",
       "</table>\n",
       "<p>303 rows × 2 columns</p>\n",
       "</div>"
      ],
      "text/plain": [
       "            시점     PPI\n",
       "0    1997.07 월   69.44\n",
       "1    1997.08 월   69.58\n",
       "2    1997.09 월   69.79\n",
       "3    1997.10 월   69.65\n",
       "4    1997.11 월   70.02\n",
       "..         ...     ...\n",
       "298  2022.05 월  119.43\n",
       "299  2022.06 월  120.10\n",
       "300  2022.07 월  120.44\n",
       "301  2022.08 월  119.98\n",
       "302  2022.09 월  120.16\n",
       "\n",
       "[303 rows x 2 columns]"
      ]
     },
     "execution_count": 59,
     "metadata": {},
     "output_type": "execute_result"
    }
   ],
   "source": [
    "ppi.rename(columns={'생산자물가지수(기본분류)': 'PPI'}, inplace=True)\n",
    "ppi"
   ]
  },
  {
   "cell_type": "code",
   "execution_count": 60,
   "id": "6bb8a976",
   "metadata": {},
   "outputs": [],
   "source": [
    "### 저장\n",
    "path = 'C:/Users/USER/Desktop/transdata'\n",
    "ppi.to_csv(os.path.join(path, 'PPI2.csv'), encoding='cp949', index=False)\n",
    "# PPI2 -> PPI 로 이름 바꿨음"
   ]
  }
 ],
 "metadata": {
  "kernelspec": {
   "display_name": "Python 3 (ipykernel)",
   "language": "python",
   "name": "python3"
  },
  "language_info": {
   "codemirror_mode": {
    "name": "ipython",
    "version": 3
   },
   "file_extension": ".py",
   "mimetype": "text/x-python",
   "name": "python",
   "nbconvert_exporter": "python",
   "pygments_lexer": "ipython3",
   "version": "3.9.12"
  }
 },
 "nbformat": 4,
 "nbformat_minor": 5
}
