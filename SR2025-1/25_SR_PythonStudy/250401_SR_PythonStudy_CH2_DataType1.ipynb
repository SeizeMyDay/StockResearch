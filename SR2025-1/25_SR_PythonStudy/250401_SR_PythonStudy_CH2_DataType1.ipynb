{
 "cells": [
  {
   "cell_type": "markdown",
   "id": "aa8ade92-61eb-4e4b-aff5-f07905ecc0c6",
   "metadata": {},
   "source": [
    "### **2025.04.01. SR 파이썬 스터디 1주차**\n",
    "#### Jupyter Notebook, 조코딩 02(1). 숫자형, 문자열, 리스트\n",
    "-----"
   ]
  },
  {
   "cell_type": "markdown",
   "id": "9978c83b-1e01-49be-a54f-90a402c8c497",
   "metadata": {},
   "source": [
    "### ✅ **Jupyter 설치 및 사용법**\n",
    "\n",
    "### **Jupyter Keymap Extension 설치**\n",
    ": vscode에서 주피터를 실행했을 때\n",
    "\n",
    "### **Jupyter Notebook이란?**\n",
    "* 파이썬 파일 편집 프로그램.\n",
    "* 데이터과학에서 많이 사용됨.\n",
    "* .py 확장자명으로 저장되는 기존 파이썬과 달리, .ipynb 확장자명으로 저장됨.\n",
    "* 코드를 구획별로 묶어서 짤 수 있음.\n",
    "* 마크다운(markdown) 기능을 활용하면 마치 노트를 정리하거나 워드파일을 쓰듯이 메모해가며 파이썬 코드를 짤 수 있음.\n",
    "\n",
    "### **Jupyter 사용법**\n",
    "* shift+enter: 현재 셀 실행하고 다음 셀로 이동\n",
    "* ctrl+enter: 현재 셀 실행\n",
    "* esc: 읽기 모드로 변경(방향키로 셀 이동 가능, 셀 더블클릭이나 enter로 다시 편집 가능)\n",
    "* b: 현재 셀 아래에 셀 생성\n",
    "* a: 현재 셀 위에 셀 생성\n",
    "* dd: 현재 셀 삭제\n",
    "* z: 셀 삭제 취소\n",
    "* m: 현재 셀 코드에서 마크다운으로 바꾸기\n",
    "* y: 현재 셀 마크다운에서 코드로 바기\n",
    "* c: 셀 복사\n",
    "* v: 셀 붙여넣기\n",
    "* x: 셀 잘라내기\n",
    "\n",
    "### **마크다운(markdown) 주요 문법**  \n",
    "셀 실행하면 적용됨\n",
    "* \\# : 제목(#가 많아질수록 작아짐)\n",
    "* \\* : 점 말머리 기호 '•'\n",
    "    * tab\\* : 말머리 기호 안의 말머리 기호 '▪'  \n",
    "* 숫자. : 숫자 말머리 기호  \n",
    "* \\*~~~\\* : 기울이기\n",
    "* \\*\\*~~~\\*\\* : 두껍게\n",
    "* 스페이스바 두 번 + 엔터 : 엔터\n",
    "* \\\\~: 마크다운 문법 무시\n",
    "* \\[Google](http://www.google.co.kr): 링크 삽입  \n",
    "    예시: [Google](http://www.google.co.kr)\n"
   ]
  },
  {
   "cell_type": "markdown",
   "id": "986be9cb-22ca-4130-bc02-0574d922ddc9",
   "metadata": {},
   "source": [
    "파이썬은 인터프리터 언어인 덕분에 Jupyter와 잘 어울림.  \n",
    "\n",
    "#### **인터프리터란?**\n",
    "C++ 등의 언어는 코드를 써 놓고 실행하면 일단 코드를 전부 다 한 번에 CPU가 이해할 수 있는 언어로 바꿈. 이후 코드를 돌림.  \n",
    "그러나 파이썬은 코드를 한 줄 한 줄씩 번역하고 돌림. 한 줄 번역하고 돌리고, 다음 줄 번역하고 돌리고, ...  \n",
    "이러한 방식 또는 이걸 가능하게 해 주는 프로그램을 '인터프리터'라고 함.  \n",
    "참고로 C++ 처럼 일단 전부 번역부터 하는 경우 '컴파일러'라고 함.  "
   ]
  },
  {
   "cell_type": "markdown",
   "id": "4e5a6f65-a737-4631-a349-2d025d2e643d",
   "metadata": {},
   "source": [
    "-----  \n",
    "## **조코딩 점프 투 파이썬 2강: 파이썬 프로그래밍의 기초, 자료형 (1)**\n",
    "조코딩 02(1). 숫자형, 문자열, 리스트"
   ]
  },
  {
   "cell_type": "markdown",
   "id": "bc4f3418-00f3-40e5-b1cb-fd589863d23a",
   "metadata": {},
   "source": [
    "### ✅ **자료형**\n",
    "* int: 정수(integer)\n",
    "* float: 실수, 파이썬에서 실수는 부동소수점(floating point) 방식으로 저장함.\n",
    "* str: 문자열(string)\n",
    "* list: 리스트\n",
    "* tuple: 튜플(tuple)\n",
    "* dict: 딕셔너리(dictionary)\n",
    "* set: 집합\n",
    "* bool: 불(boolean)"
   ]
  },
  {
   "cell_type": "markdown",
   "id": "88b3375a-5ee7-422c-8723-de78b6fa64cd",
   "metadata": {},
   "source": [
    "a: 변수 또는 자료  \n",
    "**파이썬에서 변수란, 자료가 들어있는 공간이다.**\n",
    "* type(a): a 자료형 파악\n",
    "* int(a), float(a), str(a), list(a): a 특정 자료형으로 변환. int로 만드는 게 불가능하면 에러 남.\n",
    "* print(a): a 출력"
   ]
  },
  {
   "cell_type": "code",
   "execution_count": null,
   "id": "15a73153-d87b-4357-bc5c-33a457690db0",
   "metadata": {},
   "outputs": [
    {
     "data": {
      "text/plain": [
       "1"
      ]
     },
     "execution_count": 1,
     "metadata": {},
     "output_type": "execute_result"
    }
   ],
   "source": []
  },
  {
   "cell_type": "markdown",
   "id": "2d76ec3e-af22-4d9d-934c-c33974ecb853",
   "metadata": {},
   "source": [
    "### ✅ **숫자형(int, float)**"
   ]
  },
  {
   "cell_type": "markdown",
   "id": "45cdc8c4-d81a-4def-92b3-c7218e708a5d",
   "metadata": {},
   "source": [
    "#### **숫자형 연산**\n",
    "* a + b: 더하기\n",
    "* a - b: 빼기\n",
    "* a * b: 곱하기\n",
    "* a ** b: 거듭제곱(power)\n",
    "* a / b: 나누기\n",
    "* a // b: 몫\n",
    "* a % b: 나머지"
   ]
  },
  {
   "cell_type": "code",
   "execution_count": null,
   "id": "aa0d56db-1358-4421-a19e-54cab7905d6b",
   "metadata": {},
   "outputs": [
    {
     "name": "stdout",
     "output_type": "stream",
     "text": [
      "asdf\n",
      "asdf\n"
     ]
    }
   ],
   "source": []
  },
  {
   "cell_type": "markdown",
   "id": "831c9370-890a-469a-832d-194dab21e581",
   "metadata": {},
   "source": [
    "### ✅ **문자열(str)**"
   ]
  },
  {
   "cell_type": "markdown",
   "id": "afdebc2b-3999-4cde-ac38-743a6f872dc4",
   "metadata": {},
   "source": [
    "#### 문자열 표현법\n",
    "'asdf'  \n",
    "\n",
    "\"asdf\"  \n",
    "\n",
    "'''  \n",
    "asdf  \n",
    "asdf  \n",
    "asdf  \n",
    "'''\n",
    "\n",
    "\"\"\"  \n",
    "asdf  \n",
    "asdf   \n",
    "asdf  \n",
    "\"\"\""
   ]
  },
  {
   "cell_type": "code",
   "execution_count": null,
   "id": "ceafc742-979d-401f-b1a7-1274f0e0048e",
   "metadata": {},
   "outputs": [],
   "source": []
  },
  {
   "cell_type": "markdown",
   "id": "20c9940a-12cc-458d-a66b-1988f2ab45d0",
   "metadata": {},
   "source": [
    "#### **문자열 연산**\n",
    "* a + b: a, b 문자열 더하기\n",
    "* a * n: a 문자열 n번 반복하기"
   ]
  },
  {
   "cell_type": "code",
   "execution_count": null,
   "id": "e5cd47d6-9edb-4a34-acad-892d82f5d594",
   "metadata": {},
   "outputs": [
    {
     "data": {
      "text/plain": [
       "'applebanana'"
      ]
     },
     "execution_count": 19,
     "metadata": {},
     "output_type": "execute_result"
    }
   ],
   "source": [
    "a = 'apple'\n",
    "b = 'banana'\n",
    "a * 3"
   ]
  },
  {
   "cell_type": "markdown",
   "id": "2253c040-cfcf-48d0-b544-393222acc0f4",
   "metadata": {},
   "source": [
    "#### **문자열 인덱싱**\n",
    "##### **주의: 컴퓨터는 순서를 0부터 센다!!!!**\n",
    "* a[0]: a 문자열에 있는 0번째 문자 불러오기 (우리말: 첫 번째 문자 불러오기)\n",
    "* a[1]: a 문자열에 있는 1번째 문자 불러오기 (우리말: 두 번째 문자 불러오기)\n",
    "* a[-1]: a 문자열에 있는 마지막 문자 불러오기\n",
    "* a[-2]: a 문자열에 있는 마지막에서 두 번째 문자 불러오기\n",
    "#### **문자열 슬라이싱**\n",
    "##### **주의: 컴퓨터는 처음은 포함하고, 끝은 포함 안 한다!!!!**\n",
    "* a[0:1]: a 문자열에 있는 문자 0번째**부터** 1번째 **전까지** 불러오기\n",
    "* a[0:2]: a 문자열에 있는 문자 0~1번째 것 불러오기\n",
    "* a[:2]: 처음**부터** 2번째 **전까지** 불러오기\n",
    "* a[1:]: 1번째부터 마지막까지 불러오기\n",
    "* a[1:-1]: 1번째부터 마지막 **전까지** 불러오기\n",
    "* a[::2]: 문자열의 모든 문자를 2칸 간격으로 불러오기\n",
    "* a[::-1]: 문자열의 모든 문자를 거꾸로 불러오기"
   ]
  },
  {
   "cell_type": "code",
   "execution_count": 22,
   "id": "091dc4c3-d9f8-4983-b1cf-be9ab037cb0a",
   "metadata": {},
   "outputs": [
    {
     "data": {
      "text/plain": [
       "'abcd'"
      ]
     },
     "execution_count": 22,
     "metadata": {},
     "output_type": "execute_result"
    }
   ],
   "source": [
    "a = 'abcde'\n",
    "a[0:-1]"
   ]
  },
  {
   "cell_type": "markdown",
   "id": "403bd9cc-805f-4a3a-a973-7f591fc494b2",
   "metadata": {},
   "source": [
    "#### **문자열 포매팅**\n",
    "* s: 문자열(str)\n",
    "* %d: 10진수(decimal) = int\n",
    "* %f: 실수(float, 부동소수점으로 표현한 실수)\n",
    "* '\\~{}\\~'.format(k) {}위치에 k 집어넣기 -> 이때 '{' 또는 '}'를 문자열에 입력하고 싶으면 두 번 쓴다.'{{'\n",
    "* f'\\~{a}\\~': 문자열 안에 변수 문자열로 바꿔서 집어넣기 -> 이것도 마찬가지"
   ]
  },
  {
   "cell_type": "code",
   "execution_count": null,
   "id": "84c61fdf-ea64-43b2-b07e-16f89198ad19",
   "metadata": {},
   "outputs": [],
   "source": []
  },
  {
   "cell_type": "markdown",
   "id": "2de48f2f-c6f6-4725-ae6c-de7045f5abc0",
   "metadata": {},
   "source": [
    "#### **문자열 관련 각종 함수**\n",
    "* len(a): 문자열 a의 길이 세기\n",
    "* a.count(b): 문자열 a에 문자열 b가 몇 개 있는지 세기\n",
    "* a.find(b): 문자열 a에 문자열 b가 있으면, b가 처음 나온 위치(인덱스) 알려 줌. 없으면 -1 반환\n",
    "* a.index(b): a.find(b)와 기능은 같음. 단 b가 없으면 에러 냄\n",
    "* a.strip(): 양쪽 공백 제거\n",
    "* a.rstrip(): 오른쪽 공백 제거\n",
    "* a.lstrip(): 왼쪽 공백 제거\n",
    "* a.replace(b, c): a에서 b를 c로 바꿈\n",
    "* a.split(): 공백 기준으로 문자열을 나눠 리스트로 변환\n",
    "* a.split(k): k 기준으로 문자열을 나눠 리스트로 변환"
   ]
  },
  {
   "cell_type": "code",
   "execution_count": null,
   "id": "c638be33-1567-4d34-a057-f98a2d92a9c4",
   "metadata": {},
   "outputs": [],
   "source": []
  },
  {
   "cell_type": "markdown",
   "id": "448103f8-18e3-451e-a38e-85f474956f78",
   "metadata": {},
   "source": [
    "### **리스트(list)**\n",
    "\n"
   ]
  },
  {
   "cell_type": "markdown",
   "id": "a1e11095-df5c-4173-b304-7648f087ab86",
   "metadata": {},
   "source": [
    "#### **인덱싱, 슬라이싱 방법은 str과 비슷함.**  \n",
    "리스트는 리스트 안의 원소를 직접 바꾸거나 삭제할 수 있음.\n",
    "* a[0] = b : 리스트 a 안의 첫 자료를 b로 바꿈.\n",
    "* del a[0] : 리스트 a 안의 첫 자료를 삭제함.\n",
    "* a.pop(): 리스트 a 안의 마지막 자료를 반환하고 삭제함.\n",
    "* a.remove(b): 리스트 안에 b와 일치하는 자료가 있으면 그 첫 번째 걸 삭제함.\n",
    "#### 리스트 안의 원소를 추후에 추가할 수도 있음.\n",
    "* a.append(b): 리스트 a의 끝에 b를 추가함.\n",
    "* a.insert(b, c): 리스트 a의 b 위치에 c를 추가함."
   ]
  },
  {
   "cell_type": "code",
   "execution_count": 30,
   "id": "e92415cb-16cf-4bd4-a424-0f008f973f14",
   "metadata": {},
   "outputs": [
    {
     "data": {
      "text/plain": [
       "['a', 'k', 'asdf', 1, 34289127489134]"
      ]
     },
     "execution_count": 30,
     "metadata": {},
     "output_type": "execute_result"
    }
   ],
   "source": [
    "asdf = ['a', 'b', 'asdf', 1, 34289127489134]\n",
    "asdf[1] = 'k'\n",
    "asdf"
   ]
  },
  {
   "cell_type": "markdown",
   "id": "bebfda3b-9ec0-4553-9603-aebb8c1b5650",
   "metadata": {},
   "source": [
    "#### **리스트 관련 각종 함수**\n",
    "* len(a): 리스트가 가지고 있는 자료 개수 반환\n",
    "* a.sort(): 리스트 순서 오름차순으로 정렬\n",
    "* a.sort(reverse=True): 리스트 순서 내림차순으로 정렬"
   ]
  },
  {
   "cell_type": "code",
   "execution_count": null,
   "id": "f8b3cb1d-2177-44ac-b486-868b874fbf17",
   "metadata": {},
   "outputs": [],
   "source": []
  }
 ],
 "metadata": {
  "kernelspec": {
   "display_name": "base",
   "language": "python",
   "name": "python3"
  },
  "language_info": {
   "codemirror_mode": {
    "name": "ipython",
    "version": 3
   },
   "file_extension": ".py",
   "mimetype": "text/x-python",
   "name": "python",
   "nbconvert_exporter": "python",
   "pygments_lexer": "ipython3",
   "version": "3.12.7"
  }
 },
 "nbformat": 4,
 "nbformat_minor": 5
}
