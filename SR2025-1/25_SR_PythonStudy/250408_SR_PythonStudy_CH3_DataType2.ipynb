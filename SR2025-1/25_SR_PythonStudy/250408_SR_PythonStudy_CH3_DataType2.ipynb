{
 "cells": [
  {
   "cell_type": "markdown",
   "id": "e36079ff",
   "metadata": {
    "vscode": {
     "languageId": "plaintext"
    }
   },
   "source": [
    "### **2025.04.08. SR 파이썬 스터디 2주차**\n",
    "#### 조코딩 02(2). 튜플, 딕셔너리, 집합, 불\n",
    "-----"
   ]
  },
  {
   "cell_type": "markdown",
   "id": "68c59706",
   "metadata": {},
   "source": [
    "### **✅ 튜플(tuple)**\n",
    "* 리스트와의 공통점: 자료형을 묶은 자료형. \n",
    "* 리스트와의 차이점: 구성요소 변경이 불가능함. 소괄호 ()를 사용해서 묶음.\n",
    "\n",
    "**인덱싱, 슬라이싱은 가능.**  \n",
    "이유: 인덱싱(a[0]), 슬라이싱(a[0:1])은 변수 자체를 바꾸는 기능이 아니기 때문!\n",
    "\n",
    "**sort, remove, del, pop 등은 불가능!!**"
   ]
  },
  {
   "cell_type": "markdown",
   "id": "6c230cbb",
   "metadata": {},
   "source": [
    "#### **실습 예시**  "
   ]
  },
  {
   "cell_type": "markdown",
   "id": "b76c7645",
   "metadata": {},
   "source": [
    "```\n",
    "t = (1, 2, 3, 4)\n",
    "print(t[0])\n",
    "print(t[0:4])\n",
    "print(t[0::2])\n",
    "print(t)\n",
    "```\n",
    "\n",
    "```\n",
    "t = (1, 2, 3, 4)\n",
    "t[0] = 1 # 에러 날 것임!!\n",
    "```"
   ]
  },
  {
   "cell_type": "code",
   "execution_count": 2,
   "id": "108bcb86",
   "metadata": {},
   "outputs": [
    {
     "name": "stdout",
     "output_type": "stream",
     "text": [
      "(1, 2, 3)\n"
     ]
    }
   ],
   "source": [
    "t = (1, 2, 3, 4)\n",
    "print(t[0: 3])"
   ]
  },
  {
   "cell_type": "markdown",
   "id": "c972c9a8",
   "metadata": {},
   "source": [
    "### **✅ 딕셔너리(dict)**\n",
    "* 형태: {Key1: Value1, Key2: Value2, ...}\n",
    "* 리스트와의 공통점: 자료형을 묶은 자료형. 구성요소 추가 가능. 구성요소 중 Value 값 변경 가능(Key는 변경 불가).\n",
    "* 리스트와의 차이점: 쌍으로 묶여 있음(Key, Value). 중괄호 {}와 콜론 :을 사용해서 묶음. 순서 개념이 없고 대신 Key가 있음음.\n",
    "\n",
    "#### **주요 함수**  \n",
    "d = {1: 'a', 2: 'b', 3: 'c'}\n",
    "* **1, 2, 3: Key**\n",
    "* **'a', 'b', 'c': Value**\n",
    "* a[1]: 1이라는 Key에에 해당하는 Value를 반환함(불러옴).\n",
    "* a[4] = 'd': 4라는 Key, 'd'라는 Value를 가진 새로운 구성요소를 추가함.\n",
    "* del a[1]: 1이라는 Key를 가진 구성요소를 삭제함.\n",
    "* del a[2], a[3]: 여러 개 삭제함.\n",
    "* d.keys(): d의 Key들만 불러옴.\n",
    "* d.values(): d의 Value들만 불러옴.\n",
    "* d.items(): d의 Key와 Value들을 iterable(반복문에서 사용 가능)한 형태로 불러옴.\n",
    "* d.get('a'): d에 'a'라는 Key가 있으면 그 Value를 반환함. 없어도 에러가 나지 않고 None을 반환함.\n",
    "\n",
    "\n",
    "#### **주의사항**\n",
    "* Key는 유일해야 함.\n",
    "* Key값엔 변경 불가능한 자료형(숫자형, 문자열, 튜플 등)만 들어갈 수 있음.\n",
    "* 리스트, 튜플엔 존재했던 순서 개념이 없음. 그래서 d[0] 같은 식으로 불러올 수 없음. 대신 Key를 사용함."
   ]
  },
  {
   "cell_type": "markdown",
   "id": "98982d61",
   "metadata": {},
   "source": [
    "#### **실습 예시**"
   ]
  },
  {
   "cell_type": "markdown",
   "id": "4ea460fc",
   "metadata": {},
   "source": [
    "```\n",
    "d = {'박석주': '계량팀', '박성민': '투자팀', '박주연': '투자팀', '송수암': '투자팀',\n",
    "      '이제성': '계량팀', '최성환': '계량팀', '최인재': '계량팀'}\n",
    "print(d)\n",
    "type(d)\n",
    "\n",
    "d[0] # 에러 뜸\n",
    "\n",
    "d['박석주']\n",
    "\n",
    "d['홍길동'] = '계량팀'\n",
    "d\n",
    "\n",
    "del d['홍길동']\n",
    "d\n",
    "\n",
    "print(d.keys())\n",
    "print(d.values())\n",
    "\n",
    "d['박석주'] == '투자팀'\n",
    "```"
   ]
  },
  {
   "cell_type": "code",
   "execution_count": null,
   "id": "15ddca97",
   "metadata": {},
   "outputs": [],
   "source": []
  },
  {
   "cell_type": "markdown",
   "id": "1ded73d8",
   "metadata": {},
   "source": [
    "### **✅ 집합(set)**\n",
    "\n",
    "* 형태: {1, 2, 3}. 중괄호에 값만 나열. 고등학교 때 배운 집합 표현 방법과 동일함.\n",
    "* 리스트와의 공통점: 자료형을 묶은 자료형. 구성요소 삭제 및 추가 가능\n",
    "* 리스트와의 차이점: 순서 개념이 없음(위치 확인 불가). 중괄호 {}을 사용해서 묶음. 값 중복 저장 안 됨. 집합 연산 가능.\n",
    "\n",
    "#### **집합 연산**\n",
    "* a & b, a.intersection(b): 교집합\n",
    "* a | b, a.union(b): 합집합\n",
    "* a - b, a.difference(b): 차집합\n",
    "\n",
    "#### **주요 함수**\n",
    "* a.add(b): 집합 a에 자료 b를 추가함\n",
    "* a.remove(b): 집합 a에서 자료 b를 제거함\n",
    "\n",
    "#### **주의사항**\n",
    "* 집합 안의 값들은 유일함. 만약 같은 값이 여러 개 입력됐다면 하나만 저장됨.\n",
    "* 순서 개념이 없음. 그래서 종종 변수를 저장하고 인출해 보면 처음 입력한 순서와 다르게 나오는 걸 확인할 수 있음.\n",
    "* 변경 불가능한 자료형만 들어갈 수 있음."
   ]
  },
  {
   "cell_type": "code",
   "execution_count": 3,
   "id": "33cd558f",
   "metadata": {},
   "outputs": [
    {
     "data": {
      "text/plain": [
       "{1, 2}"
      ]
     },
     "execution_count": 3,
     "metadata": {},
     "output_type": "execute_result"
    }
   ],
   "source": [
    "a = {1, 2, 3}\n",
    "b = {3, 4, 5}\n",
    "\n",
    "a - b"
   ]
  },
  {
   "cell_type": "markdown",
   "id": "66c81416",
   "metadata": {},
   "source": [
    "### **✅ 불(bool, boolean)**\n",
    "* 불리언, 논리값이라고도 불림.\n",
    "* 수학, 논리학에선 진릿값, 진리치라고도 불림.\n",
    "* True, False 두 가지 형태만 가짐.\n",
    "\n",
    "### **비교연산자**\n",
    "* 주어진 명제가 참이면 True 반환, 거짓이면 False 반환\n",
    "* 파이썬에서 '='는 변수를 지정하는 기호이기 때문에, '=' 대신에 '=='를 사용\n",
    "* a == b: a와 b는 같은가?\n",
    "* a != b: a와 b는 다른가?\n",
    "* a > b\n",
    "* a < b\n",
    "* a <= b\n",
    "* a >= b\n",
    "\n",
    "### **논리연산자**\n",
    "* and: 둘 다 참이면 True\n",
    "* or: 둘 중 하나 이상 참이면 True\n",
    "* not: 참, 거짓을 뒤바꿈\n",
    "\n",
    "### **각종 자료형의 논리값**\n",
    "* 0: False\n",
    "* 1, 2, ...: True\n",
    "* '': False\n",
    "* '들어있음': True\n",
    "* []: False\n",
    "* \\['들어있음']: True\n",
    "* (): False\n",
    "* ('들어있음'): True\n",
    "* {}: False\n",
    "* {'들어있음': '들어있음'}: True\n",
    "* {}: False\n",
    "* {\"들어있음\"}: True\n",
    "* None: False"
   ]
  },
  {
   "cell_type": "markdown",
   "id": "440ed59b",
   "metadata": {},
   "source": [
    "#### 실습 예시"
   ]
  },
  {
   "cell_type": "markdown",
   "id": "ecf5e0df",
   "metadata": {},
   "source": [
    "```\n",
    "a = 0\n",
    "b = 1\n",
    "type(a)\n",
    "type(bool(a))\n",
    "\n",
    "bool(a) == bool(b)\n",
    "\n",
    "a == b\n",
    "\n",
    "a is b\n",
    "a is not b\n",
    "\n",
    "a = 1 == 2\n",
    "print(a)\n",
    "type(a)"
   ]
  },
  {
   "cell_type": "code",
   "execution_count": null,
   "id": "100623d7",
   "metadata": {},
   "outputs": [],
   "source": []
  }
 ],
 "metadata": {
  "kernelspec": {
   "display_name": "base",
   "language": "python",
   "name": "python3"
  },
  "language_info": {
   "codemirror_mode": {
    "name": "ipython",
    "version": 3
   },
   "file_extension": ".py",
   "mimetype": "text/x-python",
   "name": "python",
   "nbconvert_exporter": "python",
   "pygments_lexer": "ipython3",
   "version": "3.12.7"
  }
 },
 "nbformat": 4,
 "nbformat_minor": 5
}
