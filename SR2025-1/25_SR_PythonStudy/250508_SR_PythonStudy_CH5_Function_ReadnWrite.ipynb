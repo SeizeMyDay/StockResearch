{
 "cells": [
  {
   "cell_type": "markdown",
   "id": "c9cbb820-0d00-4ee3-8a70-63a71cc16e80",
   "metadata": {},
   "source": [
    "### **2025.04.08. SR 파이썬 스터디 3주차**\n",
    "#### 조코딩 04. 함수, 사용자 입출력, 파일 읽기 쓰기, 프로그램 입출력\n",
    "-----"
   ]
  },
  {
   "cell_type": "markdown",
   "id": "6d0405ec-0e71-40a7-8fb1-41f44ed10bc1",
   "metadata": {},
   "source": [
    "## ✅ **함수(function)**\n",
    ": 특정 명령을 수행하는 명령어들을 매번 다 쓸 필요 없이 한 줄로 쓸 수 있도록 미리 묶어놓은 것.\n",
    "\n",
    "**example.**  \n",
    "나는 며칠에 한 번씩 빵집에서 우유식빵을 사는 사람이라고 하자.  \n",
    "사람처럼 생긴 컴퓨터 로봇이 자기가 알아들을 수 있게 프로그램만 짜 주면 이 일을 대신 해 주겠다고 한다.  \n",
    "그래서 나는 프로그램을 짜 봤다. (자세히 읽을 필요 없음)  \n",
    "\n",
    "```\n",
    "1. 카드를 잡는다.\n",
    "2. 집 문을 열고 엘리베이터 앞에 도달할 때까지 직진한다.\n",
    "4. 엘리베이터가 나오면 엘리베이터를 바라본다.\n",
    "5. 엘리베이터 호출 버튼을 누른다.\n",
    "6. 문이 열린 것이 식별되면 엘리베이터 안으로 들어간다.\n",
    "7. 뒤로 돈다.\n",
    "8. 1층 버튼을 누른다.\n",
    "9. 엘리베이터 문이 다시 열리면 현관문 앞에 도달할 때까지 직진한다.\n",
    "10. (현관에서 직진하면 빵집이 있다고 가정) 현관문이 열리면 빵집 앞에 도달할 때까지 직진한다.\n",
    "11. 빵집의 문을 당긴다.  \n",
    "    11-1. 만약 빵집의 문이 열린다면 '우유식빵'이 나올 때까지 2번 빵집 내부를 탐색한다.  \n",
    "        11-1-1. 만약 '우유식빵'을 찾았다면 '우유식빵'을 손에 든다. 카운터 쪽으로 가서 카드를 건넨다.\n",
    "                점원이 카드를 돌려주면 카드를 다시 잡는다.\n",
    "                빵집의 문 앞까지 간다. 문을 당긴다.  \n",
    "        11-1-2. 만약 2번 탐색할 동안 '우유식빵'을 찾지 못했다면 빵집의 문 앞까지 간다. 문을 당긴다.\n",
    "    11-2. 만약 빵집의 문이 열리지 않는다면 뒤로 돈다.\n",
    "12. 현관이 나올 때까지 직진한다.\n",
    "13. 현관문이 열리면 엘리베이터 앞에 도달할 때까지 직진한다.\n",
    "14. 엘리베이터 호출 버튼을 누른다.\n",
    "15. 문이 열린 것이 식별되면 엘리베이터 안으로 들어간다.\n",
    "16. 뒤로 돈다.\n",
    "17. 우리 집 층수와 일치하는 숫자가 써진 버튼을 누른다.\n",
    "18. 엘리베이터 문이 다시 열리면 엘리베이터 밖으로 나간다.\n",
    "19. 우리 집 쪽을 바라본다.\n",
    "20. 집 문 앞에 도달할 때까지 직진한다.\n",
    "21. 초인종을 누른다.\n",
    "```\n",
    "\n",
    "병적으로 디테일한 명령어들이다.  \n",
    "그러나 컴퓨터에 명령을 하려면 이 정도로 디테일하게 말해도 부족하다.  \n",
    "며칠마다 한 번씩 고작 빵 하나 사오게 하려고 이 모든 걸 매번 쓰고 있을 바엔 그냥 직접 가는 게 나을 것이다.  \n",
    "그래서 고안된 게 함수다.  \n",
    "이 명령어를 하나로 묶어 저장시킨 뒤 컴퓨터에게 \"앞으로 내가 '빵 사와' 라고 하면 항상 이걸 전부 실행해\" 라고 명령을 해 놓으면,  \n",
    "'빵 사와'라는 한 마디만으로 저 21단계를 모두 실행시킬 수 있다.\n",
    "\n",
    "실제 파이썬의 함수도 똑같은 개념이다.  \n",
    "def 다음에 함수의 이름을 설정해 주면, 그 이름만 쓰면 그 밑에 딸린 모든 명령어들을 다 같이 실행할 수 있다.\n",
    "\n",
    "우리가 그 동안 많이 써 왔던 print(), input() 등등의 명령어들이 전부 함수다."
   ]
  },
  {
   "cell_type": "markdown",
   "id": "8e2db3a0-e660-4991-949a-77043b5e08a8",
   "metadata": {},
   "source": [
    "### ✅ **함수의 구조**"
   ]
  },
  {
   "cell_type": "code",
   "execution_count": 1,
   "id": "77d6e69d-d6da-47ed-b3fb-67dc0a3dda54",
   "metadata": {},
   "outputs": [],
   "source": [
    "def 함수이름(매개변수) :\n",
    "    print('함수 실행됨')\n",
    "    print('이렇게 여러 명령어들을 한 함수로 묶을 수 있음')\n",
    "    return('함수의 자체 출력')"
   ]
  },
  {
   "cell_type": "markdown",
   "id": "ae25dafd-bd8e-4864-ad7d-9b8930cb8e86",
   "metadata": {},
   "source": [
    "❗❗ **설명을 위해 함수명, 변수명을 한국어로 썼음. 실제 코딩시에 함수명과 변수명을 한국어로 쓰는 건 절대 권장하지 않음.**\n",
    "\n",
    "### ✅ **매개변수(parameter)**\n",
    "함수 안에서 정의되는 변수.\n",
    "함수 실행 종료시 삭제됨.\n",
    "\n",
    "### ✅ **return값, 반환값**\n",
    "함수가 반환하는 값. return()으로 지정. return값이 없는 함수도 가능함.\n",
    "\n",
    "#### ❓ **return('asdf')와 print('asdf')는 뭐가 다른가?**"
   ]
  },
  {
   "cell_type": "markdown",
   "id": "f30ab9b6-1389-4fc1-8fe1-30b7b91f701c",
   "metadata": {},
   "source": [
    "#### **1. return('asdf')**"
   ]
  },
  {
   "cell_type": "code",
   "execution_count": 12,
   "id": "00ca9bfb-b34c-4486-84c5-b3b3a7c22309",
   "metadata": {},
   "outputs": [
    {
     "data": {
      "text/plain": [
       "3"
      ]
     },
     "execution_count": 12,
     "metadata": {},
     "output_type": "execute_result"
    }
   ],
   "source": [
    "a = 1\n",
    "b = 2\n",
    "a + b"
   ]
  },
  {
   "cell_type": "code",
   "execution_count": 3,
   "id": "b4695849-eacf-465a-addc-bc72304c980d",
   "metadata": {},
   "outputs": [
    {
     "data": {
      "text/plain": [
       "3"
      ]
     },
     "execution_count": 3,
     "metadata": {},
     "output_type": "execute_result"
    }
   ],
   "source": [
    "def add(a, b) :\n",
    "    return(a + b)\n",
    "\n",
    "add(1, 2)"
   ]
  },
  {
   "cell_type": "markdown",
   "id": "69bdd14c-9140-4629-a3df-9ce7bac84cd6",
   "metadata": {},
   "source": [
    "위 두 코드는 사실상 다를 게 없다.  \n",
    "1 + 2든 add(1, 2) 든 똑같이 '3'을 반환한다.  \n",
    "\n",
    "이건 사칙연산을 해 보면 더 확실히 알 수 있다."
   ]
  },
  {
   "cell_type": "markdown",
   "id": "91a50415-d77b-4bd0-ac45-0b81f4d21474",
   "metadata": {},
   "source": [
    "1 + 2 + 3 실행해 보기"
   ]
  },
  {
   "cell_type": "code",
   "execution_count": 33,
   "id": "44e4e0b4-4c52-42f5-9f33-4ffe6436e23b",
   "metadata": {},
   "outputs": [
    {
     "data": {
      "text/plain": [
       "6"
      ]
     },
     "execution_count": 33,
     "metadata": {},
     "output_type": "execute_result"
    }
   ],
   "source": [
    "1 + 2 + 3"
   ]
  },
  {
   "cell_type": "markdown",
   "id": "a0da5ba5-2ae0-4f04-b7e0-2bc3b1114106",
   "metadata": {},
   "source": [
    "위의 def add(a, b) 부분을 실행한 뒤,  \n",
    "add(1, 2) + 3 실행해 보기"
   ]
  },
  {
   "cell_type": "code",
   "execution_count": 4,
   "id": "c4bdb457-6302-4450-9715-36e4cef5dc9c",
   "metadata": {},
   "outputs": [
    {
     "data": {
      "text/plain": [
       "6"
      ]
     },
     "execution_count": 4,
     "metadata": {},
     "output_type": "execute_result"
    }
   ],
   "source": [
    "add(1, 2) + 3"
   ]
  },
  {
   "cell_type": "markdown",
   "id": "2afdb65c-53bb-44f0-81ec-9c4d38a8fba2",
   "metadata": {},
   "source": [
    "차이가 없이 정상적으로 실행되어 6이 나오는 걸 확인할 수 있다."
   ]
  },
  {
   "cell_type": "markdown",
   "id": "445c9996-3180-4d58-a5f1-995445ed4eeb",
   "metadata": {},
   "source": [
    "#### **2. print('asdf')**"
   ]
  },
  {
   "cell_type": "code",
   "execution_count": 6,
   "id": "6e0b3f1d-c16b-48af-9db8-8d9f9dde7dbb",
   "metadata": {},
   "outputs": [
    {
     "name": "stdout",
     "output_type": "stream",
     "text": [
      "3\n"
     ]
    }
   ],
   "source": [
    "def add(a, b) :\n",
    "    print(a + b)\n",
    "\n",
    "add(1, 2)"
   ]
  },
  {
   "cell_type": "markdown",
   "id": "eaaad164-4816-4940-b7a0-f2587c2a9cef",
   "metadata": {},
   "source": [
    "이것도 얼핏 보면 3을 '반환'한 것처럼 보일 수 있다.  \n",
    "하지만 이건 그냥 3을 출력했을 뿐, 반환한 건 아니다.  \n",
    "\n",
    "사칙연산을 실행해 보면 알 수 있다."
   ]
  },
  {
   "cell_type": "markdown",
   "id": "4b95f9e0-0a5c-408a-aa2d-687fe237dfe6",
   "metadata": {},
   "source": [
    "바로 위의 실행문을 실행한 뒤,  \n",
    "add(1, 2) + 3 실행해 보기"
   ]
  },
  {
   "cell_type": "code",
   "execution_count": 7,
   "id": "60be1782-447c-4455-a111-39358aae0a5d",
   "metadata": {},
   "outputs": [
    {
     "name": "stdout",
     "output_type": "stream",
     "text": [
      "3\n"
     ]
    },
    {
     "ename": "TypeError",
     "evalue": "unsupported operand type(s) for +: 'NoneType' and 'int'",
     "output_type": "error",
     "traceback": [
      "\u001b[31m---------------------------------------------------------------------------\u001b[39m",
      "\u001b[31mTypeError\u001b[39m                                 Traceback (most recent call last)",
      "\u001b[36mCell\u001b[39m\u001b[36m \u001b[39m\u001b[32mIn[7]\u001b[39m\u001b[32m, line 1\u001b[39m\n\u001b[32m----> \u001b[39m\u001b[32m1\u001b[39m \u001b[43madd\u001b[49m\u001b[43m(\u001b[49m\u001b[32;43m1\u001b[39;49m\u001b[43m,\u001b[49m\u001b[43m \u001b[49m\u001b[32;43m2\u001b[39;49m\u001b[43m)\u001b[49m\u001b[43m \u001b[49m\u001b[43m+\u001b[49m\u001b[43m \u001b[49m\u001b[32;43m3\u001b[39;49m\n",
      "\u001b[31mTypeError\u001b[39m: unsupported operand type(s) for +: 'NoneType' and 'int'"
     ]
    }
   ],
   "source": [
    "add(1, 2) + 3"
   ]
  },
  {
   "cell_type": "markdown",
   "id": "2ba49110-d171-4d97-adeb-f3866a8a84a9",
   "metadata": {},
   "source": [
    "에러가 뜬다.\n",
    "왜냐면 여기서의 add(1, 2)는 3을 print할 뿐이지 그 자체가 3은 아니기 때문이다.\n",
    "\n",
    "<br>\n",
    "\n",
    "**return( )은 입력한 함수 자체를 return( )의 괄호 안에 들어있는 것과 동일시하게 해 줌.**  \n",
    "* 동시에 함수가 끝났음을 의미. 그래서 return이 일단 실행되면 그 다음에 나오는 코드가 있다 해도 실행되지 않음.\n",
    "* return()의 괄호 안에 여러 개의 자료가 있을 경우, 튜플의 형태로 반환함."
   ]
  },
  {
   "cell_type": "markdown",
   "id": "2e1cb9fc-627e-4a5b-ac73-73541f469414",
   "metadata": {},
   "source": [
    "### ✅ **함수에 여러 입력 받기**\n",
    ": 매개변수 앞에 * 붙여주면 됨."
   ]
  },
  {
   "cell_type": "code",
   "execution_count": 45,
   "id": "f2915b77-f340-459a-8890-9bc1aa029b21",
   "metadata": {},
   "outputs": [],
   "source": [
    "def add(*args) :\n",
    "    sumation = 0\n",
    "    for i in args :\n",
    "        sumation += i\n",
    "    return(sumation)"
   ]
  },
  {
   "cell_type": "code",
   "execution_count": 47,
   "id": "fe8b18ce-4329-477a-b2db-495590c382d8",
   "metadata": {},
   "outputs": [
    {
     "data": {
      "text/plain": [
       "55"
      ]
     },
     "execution_count": 47,
     "metadata": {},
     "output_type": "execute_result"
    }
   ],
   "source": [
    "add(1, 2, 3, 4, 5, 6, 7, 8, 9, 10)"
   ]
  },
  {
   "cell_type": "markdown",
   "id": "c48979c7-0ed6-415e-bb2d-17968e99f07d",
   "metadata": {},
   "source": [
    "다른 매개변수와 섞을 수도 있음."
   ]
  },
  {
   "cell_type": "code",
   "execution_count": 56,
   "id": "105eac90-bdc2-430c-ac90-59f216079606",
   "metadata": {},
   "outputs": [],
   "source": [
    "def add(a, *args) :\n",
    "    sumation = 0\n",
    "    for i in args :\n",
    "        sumation += i\n",
    "    print(a)\n",
    "    return(sumation)"
   ]
  },
  {
   "cell_type": "code",
   "execution_count": 55,
   "id": "c389f11e-e486-4b51-b396-276b5665dcd8",
   "metadata": {},
   "outputs": [
    {
     "name": "stdout",
     "output_type": "stream",
     "text": [
      "프린트\n"
     ]
    },
    {
     "data": {
      "text/plain": [
       "6"
      ]
     },
     "execution_count": 55,
     "metadata": {},
     "output_type": "execute_result"
    }
   ],
   "source": [
    "add('프린트', 1, 2, 3)"
   ]
  },
  {
   "cell_type": "markdown",
   "id": "928cfe4e-3d2c-478a-bfa7-dc4d823dc94a",
   "metadata": {},
   "source": [
    "### ✅ **global()**\n",
    ": 함수 안에서 함수 밖의 변수를 불러오게 해 줌.  \n",
    "\n",
    "안 쓸 수 있으면 안 쓰는 게 나음. 남발할 경우 코드가 난잡해짐.\n",
    "\n",
    "#### **참고: 스파게티 코드**\n",
    "난잡하게 짜여져서 가독성과 효율이 안 좋은 코드를 칭하는 말.  \n",
    "프로그래밍을 할 때 이런 코드를 짜면 당장은 잘 돌아간다 쳐도 나중에 유지보수가 어려워짐."
   ]
  },
  {
   "cell_type": "markdown",
   "id": "21e5b5f1-12d3-44a2-8a42-9882e234b978",
   "metadata": {},
   "source": [
    "### ✅ **lambda 함수**\n",
    "def 없이 함수를 정의하는 방법.\n",
    "\n",
    "```\n",
    "add = lambda a, b: a + b\n",
    "add(1, 2)\n",
    "```\n",
    "\n",
    "간간히 쓰임."
   ]
  },
  {
   "cell_type": "markdown",
   "id": "3b9d23b1-68ba-4e05-bc56-d3e454413a77",
   "metadata": {},
   "source": [
    "-----"
   ]
  },
  {
   "cell_type": "markdown",
   "id": "541886c7-7639-4da6-b768-c6bd241465da",
   "metadata": {},
   "source": [
    "## ✅ **input()**\n",
    ": 자료를 출력창에서 직접 입력받을 수 있음.  "
   ]
  },
  {
   "cell_type": "code",
   "execution_count": 60,
   "id": "690204eb-37fe-44a3-b5d0-8bff67012be4",
   "metadata": {},
   "outputs": [
    {
     "name": "stdin",
     "output_type": "stream",
     "text": [
      " asdf\n"
     ]
    },
    {
     "name": "stdout",
     "output_type": "stream",
     "text": [
      "asdf\n"
     ]
    }
   ],
   "source": [
    "a = input()\n",
    "print(a)"
   ]
  },
  {
   "cell_type": "markdown",
   "id": "7eaeca9f-8961-4cd2-ad61-15b88d41a924",
   "metadata": {},
   "source": [
    "-----"
   ]
  },
  {
   "cell_type": "markdown",
   "id": "5ba67e47-be19-4a9e-a72b-8f87ab7a75f3",
   "metadata": {},
   "source": [
    "## **✅ 파일 읽기, 쓰기**\n",
    "\n",
    "### ✅ **파일 열기: open**\n",
    "open(파일 위치/이름, 파일 열기 모드)\n",
    "\n",
    "**파일 위치/이름**\n",
    "* 이름만 쓸 경우: 현재 작업 중인 프로그램이 있는 위치에서만 파일 탐색.\n",
    "* 위치를 써 줄 경우: 현재 작업 중인 프로그램이 있는 위치에 없는 파일도 불러올 수 있음.\n",
    "* 존재하지 않는 파일명을 썼을 경우: 새로운 파일을 만듦.\n",
    "\n",
    "\n",
    "**파일 열기 모드**\n",
    "* r: 읽기 모드(read): 파일 변경 없이 읽기만 함.\n",
    "* w: 쓰기 모드(write): 파일의 내용을 새로 씀.\n",
    "* a: 추가 모드(append): 기존 파일 내용을 유지한 채 내용을 추가함.\n",
    "\n",
    "**ex.**\n",
    "```\n",
    "open('abcd', 'r') # 파일 경로 지정 없이 이름만 입력. 현재 작업중인 프로그램이 있는 위치에서 탐색함. 같은 이름을 가진 파일이 없으면 새로 만듦.\n",
    "open('C:/SR_OneDrive/25-1 파이썬 스터디/250508_SR_PythonStudy_CH5_Function_ReadnWrite.ipynb') # 파일 이름에 더해 경로까지 지정. 주어진 경로에서 탐색함. 같은 이름을 가진 파일이 없으면 새로 만듦.\n",
    "```\n",
    "\n",
    "* 윈도우 파이썬에서 경로의 구분은 /(슬래시)로 함.\n",
    "* 윈도우 시스템에서 경로의 구분은 \\\\(역슬래시 또는 원 표시)로 함.\n",
    "\n",
    "**인코딩 형식 지정**  \n",
    "open(파일 위치/이름, 파일 열기 모드, encoding='인코딩 형식')\n",
    "* 인코딩: 컴퓨터가 처리할 수 있게 써진 문자열을 사람의 언어로 해독하는 방법.\n",
    "* 인코딩의 종류는 UTF-8, EUC-KR, CP949 등 여러 가지가 있음.\n",
    "* 파일이 만들어졌을 때 사용한 인코딩 방식과 파일을 열 때 사용한 인코딩 방식이 다르면 파일이 깨짐.  \n",
    "  (소위 말하는 외계어. '��녕하세요, �� ����분!' 이런 식으로..)\n",
    "* 이렇게 파일이 깨지면 인코딩의 종류를 바꿔봐야 함."
   ]
  },
  {
   "cell_type": "markdown",
   "id": "f819c20b-8f0c-4383-8c70-44e1d1dac6a8",
   "metadata": {},
   "source": [
    "### ✅ **파일 읽기만 하기: read**\n",
    "```\n",
    "f = open(파일, 'r')\n",
    "f.close()\n",
    "```\n",
    "**사용 가능한 함수**\n",
    "f = open(파일, 'r')이 써져 있을 때\n",
    "* f.readline(): 파일을 한 줄씩 읽음.\n",
    "* f.readlines(): 파일을 한 줄씩 전부 읽어와 리스트 형태로 바꿈.\n",
    "* f.read(): 파일을 줄로 구분하지 않고 통째로 읽어 옴.\n",
    "* ```\n",
    "    for i in f :\n",
    "    ```\n",
    "이런 식으로도 가능함.  \n",
    "이렇게 쓰면 f라는 파일 자체를 줄바꿈 문자(\\n, 엔터) 기준으로 구분된 자료의 묶음으로 취급함."
   ]
  },
  {
   "cell_type": "markdown",
   "id": "5254344b-5d56-49a9-8347-687cd621e76f",
   "metadata": {},
   "source": [
    "### ✅**파일 쓰기: write**\n",
    "\n",
    "```\n",
    "f = open('file.txt', 'w')\n",
    "f.write(자료)\n",
    "f.close()\n",
    "```\n",
    ": file이라는 텍스트파일을 열어서 f라는 변수에 집어넣음. f로 지정된 파일의 내용을 모두 지우고 자료를 새로 입력함. 이후 파일 닫음.  \n",
    "<br>\n",
    "❗ **사용에 주의해야 함!! 'w'모드로 파일을 여는 즉시 그 파일의 내용은 모두 날아감.**"
   ]
  },
  {
   "cell_type": "markdown",
   "id": "d9201d71-e743-4cd9-bbd1-e5e97723303c",
   "metadata": {},
   "source": [
    "### ✅ **파일 추가하기: append**\n",
    "```\n",
    "f = open('file.txt', 'a')\n",
    "f.write(자료)\n",
    "f.close()\n",
    "```\n",
    ": file이라는 텍스트파일을 열어서 f라는 변수에 집어넣음. 기존 파일 내용을 유지한 채로 새로운 자료를 추가함. 이후 파일 닫음.\n",
    "* write 모드: 사용에 조심해야 함. 이 모드로 원래 있던 파일을 열면, 기존에 존재하던 내용은 모두 사라져 버림.\n",
    "* append 모드: 파일을 열어도 파일의 내용이 날아가지 않음. 동시에 내용을 추가할 수 있음"
   ]
  },
  {
   "cell_type": "markdown",
   "id": "91580ec6-12b1-49d5-9276-55e71025c96d",
   "metadata": {},
   "source": [
    "### **✅ 파일 닫기: close**\n",
    "```\n",
    "f.close()\n",
    "```\n",
    "open을 하고 작업을 끝냈으면 반드시 close를 해 줘야 함.  \n",
    "<br>\n",
    "#### **with문 사용: 작업 종료 시 close를 자동으로 하게 해 줌.**\n",
    "```\n",
    "with open('file.txt', 'w') as f :\n",
    "    f.write('abcdefg')\n",
    "```"
   ]
  }
 ],
 "metadata": {
  "kernelspec": {
   "display_name": "Python 3 (ipykernel)",
   "language": "python",
   "name": "python3"
  },
  "language_info": {
   "codemirror_mode": {
    "name": "ipython",
    "version": 3
   },
   "file_extension": ".py",
   "mimetype": "text/x-python",
   "name": "python",
   "nbconvert_exporter": "python",
   "pygments_lexer": "ipython3",
   "version": "3.13.2"
  }
 },
 "nbformat": 4,
 "nbformat_minor": 5
}
